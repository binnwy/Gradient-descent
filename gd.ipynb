{
  "cells": [
    {
      "cell_type": "code",
      "execution_count": null,
      "metadata": {
        "id": "raadejFpwNBq"
      },
      "outputs": [],
      "source": [
        "from sklearn import datasets"
      ]
    },
    {
      "cell_type": "code",
      "execution_count": null,
      "metadata": {
        "id": "wktXFLmGw5NS"
      },
      "outputs": [],
      "source": [
        "diabetes=datasets.load_diabetes()\n",
        "\n",
        "X=diabetes.data\n",
        "Y=diabetes.target\n"
      ]
    },
    {
      "cell_type": "code",
      "execution_count": null,
      "metadata": {
        "colab": {
          "base_uri": "https://localhost:8080/"
        },
        "id": "Ps4KjWDxza3P",
        "outputId": "2e0da97e-a35d-46d4-8660-6bf7e94d5d4b"
      },
      "outputs": [
        {
          "data": {
            "text/plain": [
              "(353, 10)"
            ]
          },
          "execution_count": 11,
          "metadata": {},
          "output_type": "execute_result"
        }
      ],
      "source": [
        "from sklearn.model_selection import train_test_split\n",
        "X_train,X_test,Y_train,Y_test=train_test_split(X,Y,test_size=0.2)\n"
      ]
    },
    {
      "cell_type": "code",
      "execution_count": null,
      "metadata": {
        "id": "8Cai2zVLz9WG"
      },
      "outputs": [],
      "source": [
        "from sklearn  import linear_model\n",
        "from sklearn.metrics import mean_squared_error,r2_score\n",
        "model=linear_model.LinearRegression()\n",
        "model.fit(X_train,Y_train)\n",
        "Y_pred=model.predict(X_test)\n"
      ]
    },
    {
      "cell_type": "code",
      "execution_count": null,
      "metadata": {
        "colab": {
          "base_uri": "https://localhost:8080/"
        },
        "id": "-OahX3Ro0cVp",
        "outputId": "2e9b82c3-2475-4b50-d747-f2e138aaaf10"
      },
      "outputs": [
        {
          "name": "stdout",
          "output_type": "stream",
          "text": [
            "Coefficients: [ -67.0153249  -230.94686684  580.58890151  284.16821163 -711.48306564\n",
            "  339.48029053  146.78153095  313.05416776  722.9929974    61.4916301 ]\n",
            "intercept: 153.55579496332635\n",
            "Mean squared error:3537.29\n",
            "Coefficient of determination:0.33\n"
          ]
        }
      ],
      "source": [
        "print('Coefficients:',model.coef_)\n",
        "print('intercept:',model.intercept_)\n",
        "print('Mean squared error:%.2f'%mean_squared_error(Y_test,Y_pred))\n",
        "print('Coefficient of determination:%.2f'%r2_score(Y_test,Y_pred) )\n"
      ]
    },
    {
      "cell_type": "code",
      "execution_count": null,
      "metadata": {
        "colab": {
          "background_save": true,
          "base_uri": "https://localhost:8080/"
        },
        "id": "qx4atDSB2SIc",
        "outputId": "f4555b06-0fc1-4611-da01-3ca45c454855"
      },
      "outputs": [
        {
          "name": "stdout",
          "output_type": "stream",
          "text": [
            "Please provide the following details:\n"
          ]
        }
      ],
      "source": [
        "import numpy as np\n",
        "\n",
        "# Function to collect input from the user\n",
        "def get_user_input():\n",
        "    print(\"Please provide the following details:\")\n",
        "    age = float(input(\"Age (normalized): \"))\n",
        "    sex = float(input(\"Sex (normalized): \"))\n",
        "    bmi = float(input(\"BMI (normalized): \"))\n",
        "    bp = float(input(\"Average blood pressure (normalized): \"))\n",
        "    s1 = float(input(\"Total serum cholesterol (normalized): \"))\n",
        "    s2 = float(input(\"LDL (normalized): \"))\n",
        "    s3 = float(input(\"HDL (normalized): \"))\n",
        "    s4 = float(input(\"TCH (total cholesterol / HDL, normalized): \"))\n",
        "    s5 = float(input(\"LTG (log of serum triglycerides level, normalized): \"))\n",
        "    s6 = float(input(\"GLU (blood sugar level, normalized): \"))\n",
        "\n",
        "    # Combine the inputs into a single array\n",
        "    user_data = np.array([[age, sex, bmi, bp, s1, s2, s3, s4, s5, s6]])\n",
        "\n",
        "    return user_data\n",
        "\n",
        "# Collect the user input\n",
        "user_input = get_user_input()\n",
        "\n",
        "# Use the trained model to predict the target variable based on user input\n",
        "user_prediction = model.predict(user_input)\n",
        "\n",
        "print(f\"Predicted disease progression: {user_prediction[0]}\")\n"
      ]
    }
  ],
  "metadata": {
    "colab": {
      "provenance": []
    },
    "kernelspec": {
      "display_name": "Python 3",
      "name": "python3"
    },
    "language_info": {
      "name": "python"
    }
  },
  "nbformat": 4,
  "nbformat_minor": 0
}