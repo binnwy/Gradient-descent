{
 "cells": [
  {
   "cell_type": "code",
   "execution_count": 38,
   "metadata": {},
   "outputs": [],
   "source": [
    "import numpy as np"
   ]
  },
  {
   "cell_type": "code",
   "execution_count": 39,
   "metadata": {},
   "outputs": [],
   "source": [
    "a=3\n",
    "b=2\n",
    "c=1\n",
    "d=6"
   ]
  },
  {
   "cell_type": "code",
   "execution_count": 50,
   "metadata": {},
   "outputs": [],
   "source": [
    "x=np.random.rand()\n",
    "learning_rate=0.01\n",
    "epochs=100"
   ]
  },
  {
   "cell_type": "code",
   "execution_count": 51,
   "metadata": {},
   "outputs": [],
   "source": [
    "for  epoch in range (epochs):\n",
    "    value=a*x**3+b*x**2+c*x+d\n",
    "    gradient=3*a*x**2+2*b*x+c #calc the derivative of the value in each epoch\n",
    "    if gradient<-1:\n",
    "        gradient=0; #reLu\n",
    "    x-=learning_rate*gradient\n",
    "\n",
    "\n"
   ]
  },
  {
   "cell_type": "code",
   "execution_count": 52,
   "metadata": {},
   "outputs": [
    {
     "name": "stdout",
     "output_type": "stream",
     "text": [
      "The equation is: 3x^3 + 2x^2 + 1x + 6 = 0\n"
     ]
    }
   ],
   "source": [
    "print(f\"The equation is: {a}x^3 + {b}x^2 + {c}x + {d} = 0\")"
   ]
  },
  {
   "cell_type": "code",
   "execution_count": 53,
   "metadata": {},
   "outputs": [
    {
     "name": "stdout",
     "output_type": "stream",
     "text": [
      "The solution for x is approx. : -0.5915588688303268\n"
     ]
    }
   ],
   "source": [
    "print(f\"The solution for x is approx. : {x}\")"
   ]
  }
 ],
 "metadata": {
  "kernelspec": {
   "display_name": "Python 3",
   "language": "python",
   "name": "python3"
  },
  "language_info": {
   "codemirror_mode": {
    "name": "ipython",
    "version": 3
   },
   "file_extension": ".py",
   "mimetype": "text/x-python",
   "name": "python",
   "nbconvert_exporter": "python",
   "pygments_lexer": "ipython3",
   "version": "3.12.5"
  }
 },
 "nbformat": 4,
 "nbformat_minor": 2
}
